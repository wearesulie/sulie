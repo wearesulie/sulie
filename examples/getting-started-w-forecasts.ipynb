{
 "cells": [
  {
   "cell_type": "markdown",
   "id": "b0d3d3af",
   "metadata": {},
   "source": [
    "This notebook introduces zero-shot time series forecasting using Sulie’s foundation model, Mimosa, on the **Walmart Sales Dataset** (available on Kaggle). We’ll guide you through setting up and generating forecasts without custom model training—ideal for anticipating demand shifts and improving inventory planning. For details on fine-tuning and advanced configurations, check out our other examples.\n",
    "\n",
    "### Dependencies\n",
    "\n",
    "To run this Notebook, ensure the following dependencies are installed:\n",
    "* `kaggle`\n",
    "* `sulie`\n",
    "* `matplotlib`\n",
    "\n",
    "In this notebook, we’ll forecast using the training data that Mimosa has never seen or been trained on. The forecasts will be made at a store level, demonstrating the model’s ability to generalize and produce accurate predictions."
   ]
  },
  {
   "cell_type": "code",
   "execution_count": 1,
   "id": "2292cb36",
   "metadata": {},
   "outputs": [],
   "source": [
    "import matplotlib.pyplot as plt\n",
    "import os\n",
    "import pandas as pd\n",
    "import random\n",
    "\n",
    "from sulie import Sulie"
   ]
  },
  {
   "cell_type": "markdown",
   "id": "3b464a8c",
   "metadata": {},
   "source": [
    "To begin using Sulie in your Jupyter notebook, first initialize the Sulie API client. Before proceeding, ensure that you’ve signed up on the Sulie Dashboard and generated an API key. Here’s how you can set up:\n",
    "1.\tSign up at Sulie Dashboard\n",
    "2.\tCreate your API key\n",
    "3.\tInstall the Python SDK with the following command:\n",
    "\n",
    "```bash\n",
    "pip install sulie\n",
    "```\n",
    "\n",
    "For more detailed instructions, refer to our official documentation."
   ]
  },
  {
   "cell_type": "code",
   "execution_count": 2,
   "id": "938dc5c3",
   "metadata": {},
   "outputs": [],
   "source": [
    "client = Sulie(api_key=os.environ.get(\"SULIE_API_KEY\"))  # Replace with your prefered way of setting the API key"
   ]
  },
  {
   "cell_type": "markdown",
   "id": "253a10c4",
   "metadata": {},
   "source": [
    "## Time-series data\n",
    "\n",
    "In this step, we’ll load the Walmart sales dataset to begin our forecasting task. The dataset includes historical sales data for different departments across multiple stores, which is key for understanding seasonal trends and demand patterns."
   ]
  },
  {
   "cell_type": "code",
   "execution_count": 3,
   "id": "054999d6",
   "metadata": {},
   "outputs": [],
   "source": [
    "df = pd.read_csv(\"./datasets/wallmart-sales/data.csv\")\n",
    "\n",
    "# Swap the column names\n",
    "df.columns = [\"store_id\", \"dept_id\", \"date\", \"weekly_sales\", \"is_holiday\"]\n",
    "\n",
    "# Cast the sales date to a native Python object\n",
    "df[\"date\"] = pd.to_datetime(df[\"date\"])"
   ]
  },
  {
   "cell_type": "code",
   "execution_count": 4,
   "id": "3d13eb89",
   "metadata": {},
   "outputs": [
    {
     "data": {
      "text/html": [
       "<div>\n",
       "<style scoped>\n",
       "    .dataframe tbody tr th:only-of-type {\n",
       "        vertical-align: middle;\n",
       "    }\n",
       "\n",
       "    .dataframe tbody tr th {\n",
       "        vertical-align: top;\n",
       "    }\n",
       "\n",
       "    .dataframe thead th {\n",
       "        text-align: right;\n",
       "    }\n",
       "</style>\n",
       "<table border=\"1\" class=\"dataframe\">\n",
       "  <thead>\n",
       "    <tr style=\"text-align: right;\">\n",
       "      <th></th>\n",
       "      <th>store_id</th>\n",
       "      <th>dept_id</th>\n",
       "      <th>date</th>\n",
       "      <th>weekly_sales</th>\n",
       "      <th>is_holiday</th>\n",
       "    </tr>\n",
       "  </thead>\n",
       "  <tbody>\n",
       "    <tr>\n",
       "      <th>0</th>\n",
       "      <td>1</td>\n",
       "      <td>1</td>\n",
       "      <td>2010-02-05</td>\n",
       "      <td>24924.50</td>\n",
       "      <td>False</td>\n",
       "    </tr>\n",
       "    <tr>\n",
       "      <th>1</th>\n",
       "      <td>1</td>\n",
       "      <td>1</td>\n",
       "      <td>2010-02-12</td>\n",
       "      <td>46039.49</td>\n",
       "      <td>True</td>\n",
       "    </tr>\n",
       "    <tr>\n",
       "      <th>2</th>\n",
       "      <td>1</td>\n",
       "      <td>1</td>\n",
       "      <td>2010-02-19</td>\n",
       "      <td>41595.55</td>\n",
       "      <td>False</td>\n",
       "    </tr>\n",
       "    <tr>\n",
       "      <th>3</th>\n",
       "      <td>1</td>\n",
       "      <td>1</td>\n",
       "      <td>2010-02-26</td>\n",
       "      <td>19403.54</td>\n",
       "      <td>False</td>\n",
       "    </tr>\n",
       "    <tr>\n",
       "      <th>4</th>\n",
       "      <td>1</td>\n",
       "      <td>1</td>\n",
       "      <td>2010-03-05</td>\n",
       "      <td>21827.90</td>\n",
       "      <td>False</td>\n",
       "    </tr>\n",
       "  </tbody>\n",
       "</table>\n",
       "</div>"
      ],
      "text/plain": [
       "   store_id  dept_id       date  weekly_sales  is_holiday\n",
       "0         1        1 2010-02-05      24924.50       False\n",
       "1         1        1 2010-02-12      46039.49        True\n",
       "2         1        1 2010-02-19      41595.55       False\n",
       "3         1        1 2010-02-26      19403.54       False\n",
       "4         1        1 2010-03-05      21827.90       False"
      ]
     },
     "execution_count": 4,
     "metadata": {},
     "output_type": "execute_result"
    }
   ],
   "source": [
    "df.head()"
   ]
  },
  {
   "cell_type": "markdown",
   "id": "b54dcef7",
   "metadata": {},
   "source": [
    "## Datasets\n",
    "\n",
    "In the following cells, we demonstrate the use of Sulie’s Datasets feature, which provides a simplified interface for managing and interacting with your time series data. This feature is particularly useful for storing, loading, and organizing datasets within Sulie’s ecosystem, making it easier to work with your data directly in the platform.\n",
    "\n",
    "```{note}\n",
    "While using Sulie’s Datasets feature can streamline the process, it is entirely optional. If you prefer, you can also load and manipulate your data directly as a pd.DataFrame using typical Pandas methods.\n",
    "```\n",
    "\n",
    "### What is Sulie’s Datasets Feature?\n",
    "\n",
    "Sulie’s Datasets feature allows you to:\n",
    "* Upload datasets directly to the platform for easier management and version control.\n",
    "* Access datasets seamlessly within your forecasting pipeline, reducing setup time.\n",
    "* Share datasets with collaborators, ensuring consistency and reproducibility in your analyses.\n",
    "\n",
    "By leveraging this feature, you can efficiently store and retrieve data for your forecasting tasks without needing to worry about manual data management."
   ]
  },
  {
   "cell_type": "code",
   "execution_count": 5,
   "id": "1f7e92f2",
   "metadata": {},
   "outputs": [
    {
     "name": "stderr",
     "output_type": "stream",
     "text": [
      "Uploading dataset wallmark-sales: 100%|███████████████████████████████████████████████████████████████████████████████████████████████████████████████████████████████████████████████████████████| 1.00/1.00 [01:03<00:00, 63.5s/B]\n"
     ]
    }
   ],
   "source": [
    "dataset = client.upload_dataset(\n",
    "    df=df,\n",
    "    name=\"wallmark-sales\",\n",
    "    description=open(\"./datasets/wallmart-sales/README.md\").read()\n",
    ")"
   ]
  },
  {
   "cell_type": "markdown",
   "id": "2fabea43",
   "metadata": {},
   "source": [
    "## Forecasting with Sulie Foundation Model\n",
    "\n",
    "The following cells demonstrate how to make time series forecasts based on the provided data using a zero-shot approach with Sulie’s foundation model, Mimosa. This model is designed to handle complex forecasting tasks out of the box without the need for custom training. By leveraging Mimosa, which is built on transformer architecture, we can generate accurate predictions quickly and efficiently.\n",
    "\n",
    "Mimosa has been trained on vast amounts of time series data and is fine-tuned to handle a variety of forecasting challenges. It supports multiple use cases such as demand forecasting, financial projections, and inventory planning. In this section, you’ll see how to input your data and receive forecasts without any additional training or tuning steps—ideal for users who need rapid insights with minimal setup.\n",
    "\n",
    "Here are a few details about the options we pass to the `forecast` call:\n",
    "* `target` - name of the target column to forecast.\n",
    "* `group_by` - name of the column to group the series by.\n",
    "* `horizon` - prediction horizon, 24 weeks in advance.\n",
    "* `num_samples` - sets the number of samples for probabilistic forecasts.\n",
    "\n",
    "For start, we'll randomly pick a store using its ID and make weekly sales forecasts for that store specifically."
   ]
  },
  {
   "cell_type": "markdown",
   "id": "4ceac1c6",
   "metadata": {},
   "source": [
    "In the following cells, we randomly pick a store ID and select all sales data up until the last 24 data points. These final 24 weekly sales data points will serve as a validation set, allowing us to compare the forecasted values with the actual observed values. This split helps us evaluate the performance and accuracy of the model by testing it on real, unseen data."
   ]
  },
  {
   "cell_type": "code",
   "execution_count": 6,
   "id": "094287c2",
   "metadata": {},
   "outputs": [],
   "source": [
    "_id = random.choice(df[\"store_id\"].unique())\n",
    "\n",
    "# Sample based on the specific store ID and trim context\n",
    "store_data = df[df[\"store_id\"] == _id][-512:]"
   ]
  },
  {
   "cell_type": "code",
   "execution_count": 12,
   "id": "4efaca9e",
   "metadata": {},
   "outputs": [
    {
     "data": {
      "text/html": [
       "<div>\n",
       "<style scoped>\n",
       "    .dataframe tbody tr th:only-of-type {\n",
       "        vertical-align: middle;\n",
       "    }\n",
       "\n",
       "    .dataframe tbody tr th {\n",
       "        vertical-align: top;\n",
       "    }\n",
       "\n",
       "    .dataframe thead th {\n",
       "        text-align: right;\n",
       "    }\n",
       "</style>\n",
       "<table border=\"1\" class=\"dataframe\">\n",
       "  <thead>\n",
       "    <tr style=\"text-align: right;\">\n",
       "      <th></th>\n",
       "      <th>store_id</th>\n",
       "      <th>dept_id</th>\n",
       "      <th>date</th>\n",
       "      <th>weekly_sales</th>\n",
       "      <th>is_holiday</th>\n",
       "    </tr>\n",
       "  </thead>\n",
       "  <tbody>\n",
       "    <tr>\n",
       "      <th>404252</th>\n",
       "      <td>43</td>\n",
       "      <td>95</td>\n",
       "      <td>2011-04-29</td>\n",
       "      <td>70268.94</td>\n",
       "      <td>False</td>\n",
       "    </tr>\n",
       "    <tr>\n",
       "      <th>404253</th>\n",
       "      <td>43</td>\n",
       "      <td>95</td>\n",
       "      <td>2011-05-06</td>\n",
       "      <td>71578.63</td>\n",
       "      <td>False</td>\n",
       "    </tr>\n",
       "    <tr>\n",
       "      <th>404254</th>\n",
       "      <td>43</td>\n",
       "      <td>95</td>\n",
       "      <td>2011-05-13</td>\n",
       "      <td>77799.26</td>\n",
       "      <td>False</td>\n",
       "    </tr>\n",
       "    <tr>\n",
       "      <th>404255</th>\n",
       "      <td>43</td>\n",
       "      <td>95</td>\n",
       "      <td>2011-05-20</td>\n",
       "      <td>73857.25</td>\n",
       "      <td>False</td>\n",
       "    </tr>\n",
       "    <tr>\n",
       "      <th>404256</th>\n",
       "      <td>43</td>\n",
       "      <td>95</td>\n",
       "      <td>2011-05-27</td>\n",
       "      <td>70627.17</td>\n",
       "      <td>False</td>\n",
       "    </tr>\n",
       "  </tbody>\n",
       "</table>\n",
       "</div>"
      ],
      "text/plain": [
       "        store_id  dept_id       date  weekly_sales  is_holiday\n",
       "404252        43       95 2011-04-29      70268.94       False\n",
       "404253        43       95 2011-05-06      71578.63       False\n",
       "404254        43       95 2011-05-13      77799.26       False\n",
       "404255        43       95 2011-05-20      73857.25       False\n",
       "404256        43       95 2011-05-27      70627.17       False"
      ]
     },
     "execution_count": 12,
     "metadata": {},
     "output_type": "execute_result"
    }
   ],
   "source": [
    "store_data.head()"
   ]
  },
  {
   "cell_type": "code",
   "execution_count": 13,
   "id": "1683a869",
   "metadata": {},
   "outputs": [],
   "source": [
    "# Set up the prediction horizon length\n",
    "horizon_length = 45"
   ]
  },
  {
   "cell_type": "code",
   "execution_count": 14,
   "id": "ed8351b2",
   "metadata": {},
   "outputs": [],
   "source": [
    "low, median, high = client.forecast(\n",
    "    dataset=store_data[:-horizon_length],  # Leave last 24 samples for validation\n",
    "    target=\"weekly_sales\",\n",
    "    horizon=horizon_length,\n",
    "    num_samples=20\n",
    ")"
   ]
  },
  {
   "cell_type": "markdown",
   "id": "0b6d1683",
   "metadata": {},
   "source": [
    "The following cells display a comparison of forecasted vs. actual data points. For each forecast, we provide the 10% quantile, median, and 90% quantile, giving a visual representation of the prediction range and central estimate. This quantile-based approach helps illustrate the model’s confidence in its predictions, with the 10%-90% interval showing potential variability and the median representing the most likely forecast. By comparing these forecasts to the actual observed values, we can assess both accuracy and uncertainty in the model’s predictions."
   ]
  },
  {
   "cell_type": "code",
   "execution_count": 15,
   "id": "b9734d04",
   "metadata": {},
   "outputs": [
    {
     "data": {
      "image/png": "[encoded data removed]",
      "text/plain": [
       "<Figure size 576x288 with 1 Axes>"
      ]
     },
     "metadata": {
      "needs_background": "light"
     },
     "output_type": "display_data"
    }
   ],
   "source": [
    "# Limit number of weekly sales data to display\n",
    "nr_samples = round(store_data.shape[0] * 0.2)\n",
    "\n",
    "# Range for ploting forecasts\n",
    "indices = range(nr_samples, nr_samples + horizon_length)\n",
    "\n",
    "plt.figure(figsize=(8, 4))\n",
    "\n",
    "plt.plot(store_data[-(nr_samples + horizon_length):][\"weekly_sales\"].values, color=\"royalblue\", label=\"historical data\")\n",
    "plt.plot(indices, median, color=\"tomato\", label=\"median forecast\")\n",
    "plt.plot(indices, store_data[-horizon_length:][\"weekly_sales\"].values, color=\"green\", label=\"actual data\")\n",
    "plt.fill_between(indices, low, high, color=\"tomato\", alpha=0.3, label=\"80% prediction interval\")\n",
    "\n",
    "plt.legend()\n",
    "plt.grid()\n",
    "plt.show()"
   ]
  },
  {
   "cell_type": "markdown",
   "id": "2f44a98e",
   "metadata": {},
   "source": [
    "<div class=\"alert alert-info\">You can also plot the predictions by simply calling the `plot` function.</div>\n",
    "\n",
    "```python\n",
    "forecast = client.forecast(\n",
    "    dataset=store_data[:-horizon_length],  # Leave last 24 samples for validation\n",
    "    target=\"weekly_sales\",\n",
    "    horizon=horizon_length,\n",
    "    num_samples=20\n",
    ")\n",
    "forecast.plot()\n",
    "```\n"
   ]
  },
  {
   "cell_type": "markdown",
   "id": "692b926d",
   "metadata": {},
   "source": [
    "## Evaluation\n",
    "We also provide a function for evaluating our foundation model's performance on top of your own dataset. The below example evaluates the base **Mimosa** model, but you may choose to validate your own fine-tuned variant."
   ]
  },
  {
   "cell_type": "code",
   "execution_count": 20,
   "id": "b0953bf9",
   "metadata": {},
   "outputs": [
    {
     "name": "stderr",
     "output_type": "stream",
     "text": [
      "Evaluating model mimosa-base: 100%|█████████████████████████████████████████████████████████████████████████████████████████████████████████████████████████████████████████████████████████████████████████████████████████████████████████████████████████████| 25.0/25.0 [01:04<00:00, 2.58s/B]\n"
     ]
    },
    {
     "data": {
      "text/plain": [
       "535.0745625813803"
      ]
     },
     "execution_count": 20,
     "metadata": {},
     "output_type": "execute_result"
    }
   ],
   "source": [
    "client.evaluate(\n",
    "    arr=df[df[\"store_id\"] == 42][\"weekly_sales\"].values,  # Pick a random store\n",
    "    context_length=512,\n",
    "    horizon=24,\n",
    "    metric=\"WQL\",\n",
    "    aggr_func=\"median\",\n",
    "    iterations=25\n",
    ")"
   ]
  },
  {
   "cell_type": "code",
   "execution_count": null,
   "id": "071d4257",
   "metadata": {},
   "outputs": [],
   "source": []
  }
 ],
 "metadata": {
  "kernelspec": {
   "display_name": "Python 3 (ipykernel)",
   "language": "python",
   "name": "python3"
  },
  "language_info": {
   "codemirror_mode": {
    "name": "ipython",
    "version": 3
   },
   "file_extension": ".py",
   "mimetype": "text/x-python",
   "name": "python",
   "nbconvert_exporter": "python",
   "pygments_lexer": "ipython3",
   "version": "3.8.15"
  }
 },
 "nbformat": 4,
 "nbformat_minor": 5
}
